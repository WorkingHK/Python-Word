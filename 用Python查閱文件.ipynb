{
 "cells": [
  {
   "cell_type": "code",
   "execution_count": null,
   "id": "69afa33c",
   "metadata": {},
   "outputs": [],
   "source": [
    "import docx\n",
    "\n",
    "filename='Worddoc1.docx'\n",
    "doc=docx.Document(filename)\n",
    "for p in doc.paragraphs:\n",
    "    print(p.text)"
   ]
  }
 ],
 "metadata": {
  "kernelspec": {
   "display_name": "Python 3",
   "language": "python",
   "name": "python3"
  },
  "language_info": {
   "codemirror_mode": {
    "name": "ipython",
    "version": 3
   },
   "file_extension": ".py",
   "mimetype": "text/x-python",
   "name": "python",
   "nbconvert_exporter": "python",
   "pygments_lexer": "ipython3",
   "version": "3.8.8"
  }
 },
 "nbformat": 4,
 "nbformat_minor": 5
}
