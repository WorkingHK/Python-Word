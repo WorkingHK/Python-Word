{
 "cells": [
  {
   "cell_type": "code",
   "execution_count": 1,
   "id": "d7c9f3f0",
   "metadata": {},
   "outputs": [
    {
     "name": "stdout",
     "output_type": "stream",
     "text": [
      "Collecting docxtpl\n",
      "  Using cached docxtpl-0.15.1-py2.py3-none-any.whl (27 kB)\n",
      "Requirement already satisfied: lxml in c:\\users\\anodd\\downloads\\.ipynb_checkpoints\\anaconda\\lib\\site-packages (from docxtpl) (4.6.3)\n",
      "Requirement already satisfied: jinja2 in c:\\users\\anodd\\downloads\\.ipynb_checkpoints\\anaconda\\lib\\site-packages (from docxtpl) (2.11.3)\n",
      "Collecting docxcompose\n",
      "  Using cached docxcompose-1.3.4-py3-none-any.whl\n",
      "Collecting python-docx\n",
      "  Using cached python_docx-0.8.11-py3-none-any.whl\n",
      "Requirement already satisfied: six in c:\\users\\anodd\\downloads\\.ipynb_checkpoints\\anaconda\\lib\\site-packages (from docxtpl) (1.15.0)\n",
      "Requirement already satisfied: setuptools in c:\\users\\anodd\\downloads\\.ipynb_checkpoints\\anaconda\\lib\\site-packages (from docxcompose->docxtpl) (52.0.0.post20210125)\n",
      "Requirement already satisfied: MarkupSafe>=0.23 in c:\\users\\anodd\\downloads\\.ipynb_checkpoints\\anaconda\\lib\\site-packages (from jinja2->docxtpl) (1.1.1)\n",
      "Installing collected packages: python-docx, docxcompose, docxtpl\n",
      "Successfully installed docxcompose-1.3.4 docxtpl-0.15.1 python-docx-0.8.11\n",
      "Requirement already satisfied: python-docx in c:\\users\\anodd\\downloads\\.ipynb_checkpoints\\anaconda\\lib\\site-packages (0.8.11)\n",
      "Requirement already satisfied: lxml>=2.3.2 in c:\\users\\anodd\\downloads\\.ipynb_checkpoints\\anaconda\\lib\\site-packages (from python-docx) (4.6.3)\n"
     ]
    }
   ],
   "source": [
    "!pip install docxtpl\n",
    "!pip install python-docx\n",
    "from docxtpl import DocxTemplate\n",
    "\n",
    "with open(\"testing1.1.csv\",\"r\") as csvf:\n",
    "    op= csvf.readlines()\n",
    "    \n",
    "#ignore first item in list!\n",
    "\n",
    "\n",
    "for i in op[1:]:\n",
    "    wp_num=i.split(\",\")[0]\n",
    "    first_name=i.split(\",\")[1]\n",
    "    last_name=i.split(\",\")[2]\n",
    "    gender=i.split(\",\")[3]\n",
    "    email=i.split(\",\")[4]\n",
    "    occupation=i.split(\",\")[5]\n",
    "    \n",
    "    #print(wp_num,first_name,last_name,gender,email,occupation)\n",
    "    \n",
    "    doc= DocxTemplate(\"Welcome to python office automation!.docx\")\n",
    "    context={\n",
    "            'workplan_number':wp_num,\n",
    "             'First_Name':first_name,\n",
    "             'Last_Name':last_name,\n",
    "             'Gender':gender,\n",
    "             'Email':email,\n",
    "             'Occupation':occupation\n",
    "            }\n",
    "    doc.render(context)\n",
    "    doc.save(f\"{wp_num}_python.docx\")"
   ]
  },
  {
   "cell_type": "code",
   "execution_count": null,
   "id": "e525d305",
   "metadata": {},
   "outputs": [],
   "source": []
  }
 ],
 "metadata": {
  "kernelspec": {
   "display_name": "Python 3",
   "language": "python",
   "name": "python3"
  },
  "language_info": {
   "codemirror_mode": {
    "name": "ipython",
    "version": 3
   },
   "file_extension": ".py",
   "mimetype": "text/x-python",
   "name": "python",
   "nbconvert_exporter": "python",
   "pygments_lexer": "ipython3",
   "version": "3.8.8"
  }
 },
 "nbformat": 4,
 "nbformat_minor": 5
}
