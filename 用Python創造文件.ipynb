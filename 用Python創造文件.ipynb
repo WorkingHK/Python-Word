{
 "cells": [
  {
   "cell_type": "code",
   "execution_count": null,
   "id": "c2ba7c1b",
   "metadata": {},
   "outputs": [],
   "source": [
    "pip install python-docx\n",
    "import docx\n",
    "import docx\n",
    "\n",
    "doc=docx.Document()\n",
    "doc.save('Welcome to python office automation!'.docx)"
   ]
  }
 ],
 "metadata": {
  "kernelspec": {
   "display_name": "Python 3",
   "language": "python",
   "name": "python3"
  },
  "language_info": {
   "codemirror_mode": {
    "name": "ipython",
    "version": 3
   },
   "file_extension": ".py",
   "mimetype": "text/x-python",
   "name": "python",
   "nbconvert_exporter": "python",
   "pygments_lexer": "ipython3",
   "version": "3.8.8"
  }
 },
 "nbformat": 4,
 "nbformat_minor": 5
}
